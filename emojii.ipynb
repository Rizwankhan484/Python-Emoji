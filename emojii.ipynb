{
 "cells": [
  {
   "cell_type": "code",
   "execution_count": 3,
   "id": "c3e2c712",
   "metadata": {},
   "outputs": [
    {
     "name": "stdout",
     "output_type": "stream",
     "text": [
      "hey👍\n"
     ]
    }
   ],
   "source": [
    "import emoji\n",
    "print(emoji.emojize('hey:thumbs_up:'))"
   ]
  },
  {
   "cell_type": "code",
   "execution_count": 4,
   "id": "ef78fd75",
   "metadata": {},
   "outputs": [
    {
     "name": "stdout",
     "output_type": "stream",
     "text": [
      "bad👎\n"
     ]
    }
   ],
   "source": [
    "import emoji\n",
    "print(emoji.emojize('bad:thumbs_down:'))"
   ]
  },
  {
   "cell_type": "code",
   "execution_count": 5,
   "id": "4bb4e524",
   "metadata": {},
   "outputs": [
    {
     "name": "stdout",
     "output_type": "stream",
     "text": [
      "bad💔\n"
     ]
    }
   ],
   "source": [
    "import emoji\n",
    "print(emoji.emojize('bad:broken_heart:'))"
   ]
  },
  {
   "cell_type": "code",
   "execution_count": 9,
   "id": "c1c9a515",
   "metadata": {},
   "outputs": [
    {
     "name": "stdout",
     "output_type": "stream",
     "text": [
      "bad🖤\n"
     ]
    }
   ],
   "source": [
    "import emoji\n",
    "print(emoji.emojize('bad:black_heart:'))"
   ]
  },
  {
   "cell_type": "code",
   "execution_count": 10,
   "id": "13aec917",
   "metadata": {},
   "outputs": [
    {
     "name": "stdout",
     "output_type": "stream",
     "text": [
      "bad📚\n"
     ]
    }
   ],
   "source": [
    "import emoji\n",
    "print(emoji.emojize('bad:books:'))"
   ]
  },
  {
   "cell_type": "code",
   "execution_count": 13,
   "id": "ad7c420a",
   "metadata": {},
   "outputs": [
    {
     "name": "stdout",
     "output_type": "stream",
     "text": [
      "bad:happy_face:\n"
     ]
    }
   ],
   "source": [
    "import emoji\n",
    "print(emoji.emojize('bad:face_h:'))"
   ]
  },
  {
   "cell_type": "code",
   "execution_count": null,
   "id": "bccf5807",
   "metadata": {},
   "outputs": [],
   "source": []
  }
 ],
 "metadata": {
  "kernelspec": {
   "display_name": "Python 3 (ipykernel)",
   "language": "python",
   "name": "python3"
  },
  "language_info": {
   "codemirror_mode": {
    "name": "ipython",
    "version": 3
   },
   "file_extension": ".py",
   "mimetype": "text/x-python",
   "name": "python",
   "nbconvert_exporter": "python",
   "pygments_lexer": "ipython3",
   "version": "3.11.4"
  }
 },
 "nbformat": 4,
 "nbformat_minor": 5
}
